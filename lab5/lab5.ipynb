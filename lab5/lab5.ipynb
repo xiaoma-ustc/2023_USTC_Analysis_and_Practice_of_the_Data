{
 "cells": [
  {
   "cell_type": "code",
   "execution_count": 39,
   "metadata": {},
   "outputs": [],
   "source": [
    "import numpy as np\n",
    "import pandas as pd\n",
    "import matplotlib.pyplot as plt\n",
    "from sklearn.covariance import EllipticEnvelope\n",
    "import warnings\n",
    "warnings.filterwarnings(\"ignore\")\n",
    "from sklearn.model_selection import KFold\n",
    "\n",
    "from sklearn.metrics import f1_score"
   ]
  },
  {
   "cell_type": "code",
   "execution_count": 82,
   "metadata": {},
   "outputs": [],
   "source": [
    "df = pd.read_csv(\"./data/lab3-data.csv\")"
   ]
  },
  {
   "cell_type": "code",
   "execution_count": 83,
   "metadata": {},
   "outputs": [
    {
     "data": {
      "text/html": [
       "<div>\n",
       "<style scoped>\n",
       "    .dataframe tbody tr th:only-of-type {\n",
       "        vertical-align: middle;\n",
       "    }\n",
       "\n",
       "    .dataframe tbody tr th {\n",
       "        vertical-align: top;\n",
       "    }\n",
       "\n",
       "    .dataframe thead th {\n",
       "        text-align: right;\n",
       "    }\n",
       "</style>\n",
       "<table border=\"1\" class=\"dataframe\">\n",
       "  <thead>\n",
       "    <tr style=\"text-align: right;\">\n",
       "      <th></th>\n",
       "      <th>COBN_F</th>\n",
       "      <th>OCOD2</th>\n",
       "      <th>AGE</th>\n",
       "      <th>ENTUSE</th>\n",
       "      <th>PROGN</th>\n",
       "      <th>COBN_M</th>\n",
       "      <th>IC001Q09TA</th>\n",
       "      <th>ST011D17TA</th>\n",
       "      <th>IC008Q02TA</th>\n",
       "      <th>IC001Q11TA</th>\n",
       "      <th>MISCED_D</th>\n",
       "      <th>SCREADDIFF</th>\n",
       "      <th>ISCEDL</th>\n",
       "      <th>HOMEPOS</th>\n",
       "      <th>REPEAT</th>\n",
       "    </tr>\n",
       "  </thead>\n",
       "  <tbody>\n",
       "    <tr>\n",
       "      <th>0</th>\n",
       "      <td>15200</td>\n",
       "      <td>5164</td>\n",
       "      <td>15.83</td>\n",
       "      <td>-1.8728</td>\n",
       "      <td>1520002</td>\n",
       "      <td>15200</td>\n",
       "      <td>3.0</td>\n",
       "      <td>152002</td>\n",
       "      <td>1.0</td>\n",
       "      <td>2.0</td>\n",
       "      <td>5.0</td>\n",
       "      <td>-1.8876</td>\n",
       "      <td>3.0</td>\n",
       "      <td>-1.8052</td>\n",
       "      <td>0.0</td>\n",
       "    </tr>\n",
       "    <tr>\n",
       "      <th>1</th>\n",
       "      <td>15200</td>\n",
       "      <td>2212</td>\n",
       "      <td>16.00</td>\n",
       "      <td>-0.2861</td>\n",
       "      <td>1520002</td>\n",
       "      <td>15200</td>\n",
       "      <td>1.0</td>\n",
       "      <td>152002</td>\n",
       "      <td>4.0</td>\n",
       "      <td>3.0</td>\n",
       "      <td>6.0</td>\n",
       "      <td>0.5082</td>\n",
       "      <td>3.0</td>\n",
       "      <td>1.0751</td>\n",
       "      <td>0.0</td>\n",
       "    </tr>\n",
       "    <tr>\n",
       "      <th>2</th>\n",
       "      <td>15200</td>\n",
       "      <td>7212</td>\n",
       "      <td>15.42</td>\n",
       "      <td>1.2582</td>\n",
       "      <td>1520002</td>\n",
       "      <td>15200</td>\n",
       "      <td>1.0</td>\n",
       "      <td>152002</td>\n",
       "      <td>4.0</td>\n",
       "      <td>3.0</td>\n",
       "      <td>3.0</td>\n",
       "      <td>-1.1260</td>\n",
       "      <td>3.0</td>\n",
       "      <td>-0.9201</td>\n",
       "      <td>0.0</td>\n",
       "    </tr>\n",
       "    <tr>\n",
       "      <th>3</th>\n",
       "      <td>15200</td>\n",
       "      <td>2411</td>\n",
       "      <td>16.25</td>\n",
       "      <td>0.3772</td>\n",
       "      <td>1520002</td>\n",
       "      <td>15200</td>\n",
       "      <td>1.0</td>\n",
       "      <td>152002</td>\n",
       "      <td>4.0</td>\n",
       "      <td>3.0</td>\n",
       "      <td>6.0</td>\n",
       "      <td>-1.1635</td>\n",
       "      <td>3.0</td>\n",
       "      <td>0.4303</td>\n",
       "      <td>0.0</td>\n",
       "    </tr>\n",
       "    <tr>\n",
       "      <th>4</th>\n",
       "      <td>15200</td>\n",
       "      <td>7212</td>\n",
       "      <td>16.08</td>\n",
       "      <td>0.7739</td>\n",
       "      <td>1520002</td>\n",
       "      <td>15200</td>\n",
       "      <td>1.0</td>\n",
       "      <td>152002</td>\n",
       "      <td>3.0</td>\n",
       "      <td>3.0</td>\n",
       "      <td>4.0</td>\n",
       "      <td>-1.8876</td>\n",
       "      <td>3.0</td>\n",
       "      <td>-0.6816</td>\n",
       "      <td>0.0</td>\n",
       "    </tr>\n",
       "    <tr>\n",
       "      <th>...</th>\n",
       "      <td>...</td>\n",
       "      <td>...</td>\n",
       "      <td>...</td>\n",
       "      <td>...</td>\n",
       "      <td>...</td>\n",
       "      <td>...</td>\n",
       "      <td>...</td>\n",
       "      <td>...</td>\n",
       "      <td>...</td>\n",
       "      <td>...</td>\n",
       "      <td>...</td>\n",
       "      <td>...</td>\n",
       "      <td>...</td>\n",
       "      <td>...</td>\n",
       "      <td>...</td>\n",
       "    </tr>\n",
       "    <tr>\n",
       "      <th>42171</th>\n",
       "      <td>972400</td>\n",
       "      <td>1411</td>\n",
       "      <td>16.00</td>\n",
       "      <td>0.6080</td>\n",
       "      <td>7240001</td>\n",
       "      <td>72410</td>\n",
       "      <td>1.0</td>\n",
       "      <td>724001</td>\n",
       "      <td>2.0</td>\n",
       "      <td>1.0</td>\n",
       "      <td>6.0</td>\n",
       "      <td>-1.8876</td>\n",
       "      <td>2.0</td>\n",
       "      <td>-0.4604</td>\n",
       "      <td>0.0</td>\n",
       "    </tr>\n",
       "    <tr>\n",
       "      <th>42172</th>\n",
       "      <td>72407</td>\n",
       "      <td>7115</td>\n",
       "      <td>15.67</td>\n",
       "      <td>NaN</td>\n",
       "      <td>7240001</td>\n",
       "      <td>72407</td>\n",
       "      <td>1.0</td>\n",
       "      <td>724001</td>\n",
       "      <td>NaN</td>\n",
       "      <td>1.0</td>\n",
       "      <td>6.0</td>\n",
       "      <td>1.2421</td>\n",
       "      <td>2.0</td>\n",
       "      <td>0.7816</td>\n",
       "      <td>1.0</td>\n",
       "    </tr>\n",
       "    <tr>\n",
       "      <th>42173</th>\n",
       "      <td>72413</td>\n",
       "      <td>2142</td>\n",
       "      <td>15.67</td>\n",
       "      <td>0.1142</td>\n",
       "      <td>7240001</td>\n",
       "      <td>72413</td>\n",
       "      <td>1.0</td>\n",
       "      <td>724001</td>\n",
       "      <td>4.0</td>\n",
       "      <td>3.0</td>\n",
       "      <td>3.0</td>\n",
       "      <td>-0.6630</td>\n",
       "      <td>2.0</td>\n",
       "      <td>1.0707</td>\n",
       "      <td>0.0</td>\n",
       "    </tr>\n",
       "    <tr>\n",
       "      <th>42174</th>\n",
       "      <td>72405</td>\n",
       "      <td>5414</td>\n",
       "      <td>15.33</td>\n",
       "      <td>-0.4542</td>\n",
       "      <td>7240001</td>\n",
       "      <td>72405</td>\n",
       "      <td>1.0</td>\n",
       "      <td>724001</td>\n",
       "      <td>1.0</td>\n",
       "      <td>3.0</td>\n",
       "      <td>2.0</td>\n",
       "      <td>1.1604</td>\n",
       "      <td>2.0</td>\n",
       "      <td>-1.0045</td>\n",
       "      <td>1.0</td>\n",
       "    </tr>\n",
       "    <tr>\n",
       "      <th>42175</th>\n",
       "      <td>72416</td>\n",
       "      <td>2149</td>\n",
       "      <td>15.67</td>\n",
       "      <td>-0.8668</td>\n",
       "      <td>7240001</td>\n",
       "      <td>72413</td>\n",
       "      <td>1.0</td>\n",
       "      <td>724001</td>\n",
       "      <td>5.0</td>\n",
       "      <td>3.0</td>\n",
       "      <td>2.0</td>\n",
       "      <td>0.7067</td>\n",
       "      <td>2.0</td>\n",
       "      <td>1.2865</td>\n",
       "      <td>1.0</td>\n",
       "    </tr>\n",
       "  </tbody>\n",
       "</table>\n",
       "<p>42176 rows × 15 columns</p>\n",
       "</div>"
      ],
      "text/plain": [
       "       COBN_F  OCOD2    AGE  ENTUSE    PROGN  COBN_M  IC001Q09TA  ST011D17TA  \\\n",
       "0       15200   5164  15.83 -1.8728  1520002   15200         3.0      152002   \n",
       "1       15200   2212  16.00 -0.2861  1520002   15200         1.0      152002   \n",
       "2       15200   7212  15.42  1.2582  1520002   15200         1.0      152002   \n",
       "3       15200   2411  16.25  0.3772  1520002   15200         1.0      152002   \n",
       "4       15200   7212  16.08  0.7739  1520002   15200         1.0      152002   \n",
       "...       ...    ...    ...     ...      ...     ...         ...         ...   \n",
       "42171  972400   1411  16.00  0.6080  7240001   72410         1.0      724001   \n",
       "42172   72407   7115  15.67     NaN  7240001   72407         1.0      724001   \n",
       "42173   72413   2142  15.67  0.1142  7240001   72413         1.0      724001   \n",
       "42174   72405   5414  15.33 -0.4542  7240001   72405         1.0      724001   \n",
       "42175   72416   2149  15.67 -0.8668  7240001   72413         1.0      724001   \n",
       "\n",
       "       IC008Q02TA  IC001Q11TA  MISCED_D  SCREADDIFF  ISCEDL  HOMEPOS  REPEAT  \n",
       "0             1.0         2.0       5.0     -1.8876     3.0  -1.8052     0.0  \n",
       "1             4.0         3.0       6.0      0.5082     3.0   1.0751     0.0  \n",
       "2             4.0         3.0       3.0     -1.1260     3.0  -0.9201     0.0  \n",
       "3             4.0         3.0       6.0     -1.1635     3.0   0.4303     0.0  \n",
       "4             3.0         3.0       4.0     -1.8876     3.0  -0.6816     0.0  \n",
       "...           ...         ...       ...         ...     ...      ...     ...  \n",
       "42171         2.0         1.0       6.0     -1.8876     2.0  -0.4604     0.0  \n",
       "42172         NaN         1.0       6.0      1.2421     2.0   0.7816     1.0  \n",
       "42173         4.0         3.0       3.0     -0.6630     2.0   1.0707     0.0  \n",
       "42174         1.0         3.0       2.0      1.1604     2.0  -1.0045     1.0  \n",
       "42175         5.0         3.0       2.0      0.7067     2.0   1.2865     1.0  \n",
       "\n",
       "[42176 rows x 15 columns]"
      ]
     },
     "execution_count": 83,
     "metadata": {},
     "output_type": "execute_result"
    }
   ],
   "source": [
    "\n",
    "df = df.loc[:,['COBN_F','OCOD2', 'AGE',\n",
    "                'ENTUSE','PROGN','COBN_M','IC001Q09TA',\n",
    "                'ST011D17TA','IC008Q02TA','IC001Q11TA',\n",
    "                'MISCED_D','SCREADDIFF',\n",
    "                'ISCEDL','HOMEPOS',\"REPEAT\"]]\n",
    "df"
   ]
  },
  {
   "cell_type": "code",
   "execution_count": 84,
   "metadata": {},
   "outputs": [
    {
     "data": {
      "text/plain": [
       "COBN_F           0\n",
       "OCOD2            0\n",
       "AGE              0\n",
       "ENTUSE        2041\n",
       "PROGN            0\n",
       "COBN_M           0\n",
       "IC001Q09TA     605\n",
       "ST011D17TA       0\n",
       "IC008Q02TA    2659\n",
       "IC001Q11TA     572\n",
       "MISCED_D       934\n",
       "SCREADDIFF    1760\n",
       "ISCEDL           0\n",
       "HOMEPOS          7\n",
       "REPEAT          74\n",
       "dtype: int64"
      ]
     },
     "execution_count": 84,
     "metadata": {},
     "output_type": "execute_result"
    }
   ],
   "source": [
    "df.isnull().sum()"
   ]
  },
  {
   "cell_type": "code",
   "execution_count": 85,
   "metadata": {},
   "outputs": [],
   "source": [
    "df = df.dropna(subset=\"REPEAT\")"
   ]
  },
  {
   "cell_type": "code",
   "execution_count": 86,
   "metadata": {},
   "outputs": [
    {
     "data": {
      "text/plain": [
       "COBN_F           0\n",
       "OCOD2            0\n",
       "AGE              0\n",
       "ENTUSE        2030\n",
       "PROGN            0\n",
       "COBN_M           0\n",
       "IC001Q09TA     601\n",
       "ST011D17TA       0\n",
       "IC008Q02TA    2645\n",
       "IC001Q11TA     566\n",
       "MISCED_D       927\n",
       "SCREADDIFF    1739\n",
       "ISCEDL           0\n",
       "HOMEPOS          5\n",
       "REPEAT           0\n",
       "dtype: int64"
      ]
     },
     "execution_count": 86,
     "metadata": {},
     "output_type": "execute_result"
    }
   ],
   "source": [
    "df.isnull().sum()"
   ]
  },
  {
   "cell_type": "code",
   "execution_count": 87,
   "metadata": {},
   "outputs": [],
   "source": [
    "df = df.dropna()"
   ]
  },
  {
   "cell_type": "code",
   "execution_count": 88,
   "metadata": {},
   "outputs": [
    {
     "name": "stdout",
     "output_type": "stream",
     "text": [
      "True\n"
     ]
    }
   ],
   "source": [
    "name = df.columns\n",
    "df = np.array(df)\n",
    "detector = EllipticEnvelope()\n",
    "detector.fit(df)\n",
    "outlier = detector.predict(df)\n",
    "for i in range(df.shape[0]):\n",
    "    if outlier[i] == -1:\n",
    "        df[i, : ] = np.nan\n",
    "isnan = np.isnan(df)\n",
    "print(True in isnan)"
   ]
  },
  {
   "cell_type": "code",
   "execution_count": 89,
   "metadata": {},
   "outputs": [],
   "source": [
    "df = pd.DataFrame(df)"
   ]
  },
  {
   "cell_type": "code",
   "execution_count": 90,
   "metadata": {},
   "outputs": [
    {
     "data": {
      "text/html": [
       "<div>\n",
       "<style scoped>\n",
       "    .dataframe tbody tr th:only-of-type {\n",
       "        vertical-align: middle;\n",
       "    }\n",
       "\n",
       "    .dataframe tbody tr th {\n",
       "        vertical-align: top;\n",
       "    }\n",
       "\n",
       "    .dataframe thead th {\n",
       "        text-align: right;\n",
       "    }\n",
       "</style>\n",
       "<table border=\"1\" class=\"dataframe\">\n",
       "  <thead>\n",
       "    <tr style=\"text-align: right;\">\n",
       "      <th></th>\n",
       "      <th>COBN_F</th>\n",
       "      <th>OCOD2</th>\n",
       "      <th>AGE</th>\n",
       "      <th>ENTUSE</th>\n",
       "      <th>PROGN</th>\n",
       "      <th>COBN_M</th>\n",
       "      <th>IC001Q09TA</th>\n",
       "      <th>ST011D17TA</th>\n",
       "      <th>IC008Q02TA</th>\n",
       "      <th>IC001Q11TA</th>\n",
       "      <th>MISCED_D</th>\n",
       "      <th>SCREADDIFF</th>\n",
       "      <th>ISCEDL</th>\n",
       "      <th>HOMEPOS</th>\n",
       "      <th>REPEAT</th>\n",
       "    </tr>\n",
       "  </thead>\n",
       "  <tbody>\n",
       "    <tr>\n",
       "      <th>0</th>\n",
       "      <td>15200.0</td>\n",
       "      <td>5164.0</td>\n",
       "      <td>15.83</td>\n",
       "      <td>-1.8728</td>\n",
       "      <td>1520002.0</td>\n",
       "      <td>15200.0</td>\n",
       "      <td>3.0</td>\n",
       "      <td>152002.0</td>\n",
       "      <td>1.0</td>\n",
       "      <td>2.0</td>\n",
       "      <td>5.0</td>\n",
       "      <td>-1.8876</td>\n",
       "      <td>3.0</td>\n",
       "      <td>-1.8052</td>\n",
       "      <td>0.0</td>\n",
       "    </tr>\n",
       "    <tr>\n",
       "      <th>1</th>\n",
       "      <td>15200.0</td>\n",
       "      <td>2212.0</td>\n",
       "      <td>16.00</td>\n",
       "      <td>-0.2861</td>\n",
       "      <td>1520002.0</td>\n",
       "      <td>15200.0</td>\n",
       "      <td>1.0</td>\n",
       "      <td>152002.0</td>\n",
       "      <td>4.0</td>\n",
       "      <td>3.0</td>\n",
       "      <td>6.0</td>\n",
       "      <td>0.5082</td>\n",
       "      <td>3.0</td>\n",
       "      <td>1.0751</td>\n",
       "      <td>0.0</td>\n",
       "    </tr>\n",
       "    <tr>\n",
       "      <th>2</th>\n",
       "      <td>15200.0</td>\n",
       "      <td>7212.0</td>\n",
       "      <td>15.42</td>\n",
       "      <td>1.2582</td>\n",
       "      <td>1520002.0</td>\n",
       "      <td>15200.0</td>\n",
       "      <td>1.0</td>\n",
       "      <td>152002.0</td>\n",
       "      <td>4.0</td>\n",
       "      <td>3.0</td>\n",
       "      <td>3.0</td>\n",
       "      <td>-1.1260</td>\n",
       "      <td>3.0</td>\n",
       "      <td>-0.9201</td>\n",
       "      <td>0.0</td>\n",
       "    </tr>\n",
       "    <tr>\n",
       "      <th>3</th>\n",
       "      <td>15200.0</td>\n",
       "      <td>2411.0</td>\n",
       "      <td>16.25</td>\n",
       "      <td>0.3772</td>\n",
       "      <td>1520002.0</td>\n",
       "      <td>15200.0</td>\n",
       "      <td>1.0</td>\n",
       "      <td>152002.0</td>\n",
       "      <td>4.0</td>\n",
       "      <td>3.0</td>\n",
       "      <td>6.0</td>\n",
       "      <td>-1.1635</td>\n",
       "      <td>3.0</td>\n",
       "      <td>0.4303</td>\n",
       "      <td>0.0</td>\n",
       "    </tr>\n",
       "    <tr>\n",
       "      <th>4</th>\n",
       "      <td>15200.0</td>\n",
       "      <td>7212.0</td>\n",
       "      <td>16.08</td>\n",
       "      <td>0.7739</td>\n",
       "      <td>1520002.0</td>\n",
       "      <td>15200.0</td>\n",
       "      <td>1.0</td>\n",
       "      <td>152002.0</td>\n",
       "      <td>3.0</td>\n",
       "      <td>3.0</td>\n",
       "      <td>4.0</td>\n",
       "      <td>-1.8876</td>\n",
       "      <td>3.0</td>\n",
       "      <td>-0.6816</td>\n",
       "      <td>0.0</td>\n",
       "    </tr>\n",
       "    <tr>\n",
       "      <th>...</th>\n",
       "      <td>...</td>\n",
       "      <td>...</td>\n",
       "      <td>...</td>\n",
       "      <td>...</td>\n",
       "      <td>...</td>\n",
       "      <td>...</td>\n",
       "      <td>...</td>\n",
       "      <td>...</td>\n",
       "      <td>...</td>\n",
       "      <td>...</td>\n",
       "      <td>...</td>\n",
       "      <td>...</td>\n",
       "      <td>...</td>\n",
       "      <td>...</td>\n",
       "      <td>...</td>\n",
       "    </tr>\n",
       "    <tr>\n",
       "      <th>36493</th>\n",
       "      <td>72408.0</td>\n",
       "      <td>6121.0</td>\n",
       "      <td>15.92</td>\n",
       "      <td>0.2687</td>\n",
       "      <td>7240001.0</td>\n",
       "      <td>72408.0</td>\n",
       "      <td>1.0</td>\n",
       "      <td>724001.0</td>\n",
       "      <td>5.0</td>\n",
       "      <td>1.0</td>\n",
       "      <td>2.0</td>\n",
       "      <td>-0.5240</td>\n",
       "      <td>2.0</td>\n",
       "      <td>0.5544</td>\n",
       "      <td>0.0</td>\n",
       "    </tr>\n",
       "    <tr>\n",
       "      <th>36494</th>\n",
       "      <td>972400.0</td>\n",
       "      <td>1411.0</td>\n",
       "      <td>16.00</td>\n",
       "      <td>0.6080</td>\n",
       "      <td>7240001.0</td>\n",
       "      <td>72410.0</td>\n",
       "      <td>1.0</td>\n",
       "      <td>724001.0</td>\n",
       "      <td>2.0</td>\n",
       "      <td>1.0</td>\n",
       "      <td>6.0</td>\n",
       "      <td>-1.8876</td>\n",
       "      <td>2.0</td>\n",
       "      <td>-0.4604</td>\n",
       "      <td>0.0</td>\n",
       "    </tr>\n",
       "    <tr>\n",
       "      <th>36495</th>\n",
       "      <td>72413.0</td>\n",
       "      <td>2142.0</td>\n",
       "      <td>15.67</td>\n",
       "      <td>0.1142</td>\n",
       "      <td>7240001.0</td>\n",
       "      <td>72413.0</td>\n",
       "      <td>1.0</td>\n",
       "      <td>724001.0</td>\n",
       "      <td>4.0</td>\n",
       "      <td>3.0</td>\n",
       "      <td>3.0</td>\n",
       "      <td>-0.6630</td>\n",
       "      <td>2.0</td>\n",
       "      <td>1.0707</td>\n",
       "      <td>0.0</td>\n",
       "    </tr>\n",
       "    <tr>\n",
       "      <th>36496</th>\n",
       "      <td>72405.0</td>\n",
       "      <td>5414.0</td>\n",
       "      <td>15.33</td>\n",
       "      <td>-0.4542</td>\n",
       "      <td>7240001.0</td>\n",
       "      <td>72405.0</td>\n",
       "      <td>1.0</td>\n",
       "      <td>724001.0</td>\n",
       "      <td>1.0</td>\n",
       "      <td>3.0</td>\n",
       "      <td>2.0</td>\n",
       "      <td>1.1604</td>\n",
       "      <td>2.0</td>\n",
       "      <td>-1.0045</td>\n",
       "      <td>1.0</td>\n",
       "    </tr>\n",
       "    <tr>\n",
       "      <th>36497</th>\n",
       "      <td>72416.0</td>\n",
       "      <td>2149.0</td>\n",
       "      <td>15.67</td>\n",
       "      <td>-0.8668</td>\n",
       "      <td>7240001.0</td>\n",
       "      <td>72413.0</td>\n",
       "      <td>1.0</td>\n",
       "      <td>724001.0</td>\n",
       "      <td>5.0</td>\n",
       "      <td>3.0</td>\n",
       "      <td>2.0</td>\n",
       "      <td>0.7067</td>\n",
       "      <td>2.0</td>\n",
       "      <td>1.2865</td>\n",
       "      <td>1.0</td>\n",
       "    </tr>\n",
       "  </tbody>\n",
       "</table>\n",
       "<p>32848 rows × 15 columns</p>\n",
       "</div>"
      ],
      "text/plain": [
       "         COBN_F   OCOD2    AGE  ENTUSE      PROGN   COBN_M  IC001Q09TA  \\\n",
       "0       15200.0  5164.0  15.83 -1.8728  1520002.0  15200.0         3.0   \n",
       "1       15200.0  2212.0  16.00 -0.2861  1520002.0  15200.0         1.0   \n",
       "2       15200.0  7212.0  15.42  1.2582  1520002.0  15200.0         1.0   \n",
       "3       15200.0  2411.0  16.25  0.3772  1520002.0  15200.0         1.0   \n",
       "4       15200.0  7212.0  16.08  0.7739  1520002.0  15200.0         1.0   \n",
       "...         ...     ...    ...     ...        ...      ...         ...   \n",
       "36493   72408.0  6121.0  15.92  0.2687  7240001.0  72408.0         1.0   \n",
       "36494  972400.0  1411.0  16.00  0.6080  7240001.0  72410.0         1.0   \n",
       "36495   72413.0  2142.0  15.67  0.1142  7240001.0  72413.0         1.0   \n",
       "36496   72405.0  5414.0  15.33 -0.4542  7240001.0  72405.0         1.0   \n",
       "36497   72416.0  2149.0  15.67 -0.8668  7240001.0  72413.0         1.0   \n",
       "\n",
       "       ST011D17TA  IC008Q02TA  IC001Q11TA  MISCED_D  SCREADDIFF  ISCEDL  \\\n",
       "0        152002.0         1.0         2.0       5.0     -1.8876     3.0   \n",
       "1        152002.0         4.0         3.0       6.0      0.5082     3.0   \n",
       "2        152002.0         4.0         3.0       3.0     -1.1260     3.0   \n",
       "3        152002.0         4.0         3.0       6.0     -1.1635     3.0   \n",
       "4        152002.0         3.0         3.0       4.0     -1.8876     3.0   \n",
       "...           ...         ...         ...       ...         ...     ...   \n",
       "36493    724001.0         5.0         1.0       2.0     -0.5240     2.0   \n",
       "36494    724001.0         2.0         1.0       6.0     -1.8876     2.0   \n",
       "36495    724001.0         4.0         3.0       3.0     -0.6630     2.0   \n",
       "36496    724001.0         1.0         3.0       2.0      1.1604     2.0   \n",
       "36497    724001.0         5.0         3.0       2.0      0.7067     2.0   \n",
       "\n",
       "       HOMEPOS  REPEAT  \n",
       "0      -1.8052     0.0  \n",
       "1       1.0751     0.0  \n",
       "2      -0.9201     0.0  \n",
       "3       0.4303     0.0  \n",
       "4      -0.6816     0.0  \n",
       "...        ...     ...  \n",
       "36493   0.5544     0.0  \n",
       "36494  -0.4604     0.0  \n",
       "36495   1.0707     0.0  \n",
       "36496  -1.0045     1.0  \n",
       "36497   1.2865     1.0  \n",
       "\n",
       "[32848 rows x 15 columns]"
      ]
     },
     "execution_count": 90,
     "metadata": {},
     "output_type": "execute_result"
    }
   ],
   "source": [
    "df.columns = name\n",
    "df = df.dropna()\n",
    "df"
   ]
  },
  {
   "cell_type": "code",
   "execution_count": 91,
   "metadata": {},
   "outputs": [
    {
     "data": {
      "text/plain": [
       "\" def drop_noisy(df):\\n    df_copy = df.copy()\\n    df_describe = df_copy.describe()\\n    for column in df.columns:\\n        mean = df_describe.loc['mean',column]\\n        std = df_describe.loc['std',column]\\n        minvalue = mean - 3*std\\n        maxvalue = mean + 3*std\\n        df_copy = df_copy[df_copy[column] >= minvalue]\\n        df_copy = df_copy[df_copy[column] <= maxvalue]\\n    return df_copy\\ndf = drop_noisy(df)\\ndf \""
      ]
     },
     "execution_count": 91,
     "metadata": {},
     "output_type": "execute_result"
    }
   ],
   "source": [
    "\"\"\" def drop_noisy(df):\n",
    "    df_copy = df.copy()\n",
    "    df_describe = df_copy.describe()\n",
    "    for column in df.columns:\n",
    "        mean = df_describe.loc['mean',column]\n",
    "        std = df_describe.loc['std',column]\n",
    "        minvalue = mean - 3*std\n",
    "        maxvalue = mean + 3*std\n",
    "        df_copy = df_copy[df_copy[column] >= minvalue]\n",
    "        df_copy = df_copy[df_copy[column] <= maxvalue]\n",
    "    return df_copy\n",
    "df = drop_noisy(df)\n",
    "df \"\"\""
   ]
  },
  {
   "cell_type": "code",
   "execution_count": 92,
   "metadata": {},
   "outputs": [],
   "source": [
    "from sklearn.model_selection import cross_val_score\n",
    "from xgboost.sklearn import XGBClassifier\n",
    "from sklearn.neural_network import MLPClassifier\n",
    "from sklearn.tree import DecisionTreeClassifier\n",
    "from sklearn.neighbors import KNeighborsClassifier"
   ]
  },
  {
   "cell_type": "code",
   "execution_count": 93,
   "metadata": {},
   "outputs": [
    {
     "data": {
      "text/plain": [
       "\" data = df.loc[:,['COBN_F','HOMEPOS','ISCEDL','OCOD2']]\\ndata \""
      ]
     },
     "execution_count": 93,
     "metadata": {},
     "output_type": "execute_result"
    }
   ],
   "source": [
    "\"\"\" data = df.loc[:,['COBN_F','HOMEPOS','ISCEDL','OCOD2']]\n",
    "data \"\"\""
   ]
  },
  {
   "cell_type": "code",
   "execution_count": 94,
   "metadata": {},
   "outputs": [
    {
     "data": {
      "text/plain": [
       "array([[0],\n",
       "       [0],\n",
       "       [0],\n",
       "       ...,\n",
       "       [0],\n",
       "       [1],\n",
       "       [1]])"
      ]
     },
     "execution_count": 94,
     "metadata": {},
     "output_type": "execute_result"
    }
   ],
   "source": [
    "labels = df.loc[:,[\"REPEAT\"]]\n",
    "labels = np.array(labels)\n",
    "labels = labels.astype('int')\n",
    "labels"
   ]
  },
  {
   "cell_type": "code",
   "execution_count": 95,
   "metadata": {},
   "outputs": [
    {
     "name": "stdout",
     "output_type": "stream",
     "text": [
      "[0.16841208]\n"
     ]
    }
   ],
   "source": [
    "print(np.sum(labels[i] == 1 for i in range(len(labels))) / len(labels))"
   ]
  },
  {
   "cell_type": "code",
   "execution_count": 96,
   "metadata": {},
   "outputs": [],
   "source": [
    "datax = df.drop(columns='REPEAT')"
   ]
  },
  {
   "cell_type": "code",
   "execution_count": 97,
   "metadata": {},
   "outputs": [],
   "source": [
    "#'ISCEDL','AGE','HOMEPOS',\n",
    "data = df.loc[:,['COBN_F','ST011D17TA','ENTUSE','HOMEPOS',\n",
    "                'IC008Q02TA','IC001Q11TA','MISCED_D','SCREADDIFF']]\n",
    "gbtree = DecisionTreeClassifier(criterion='gini', max_depth=3)"
   ]
  },
  {
   "cell_type": "code",
   "execution_count": 98,
   "metadata": {},
   "outputs": [
    {
     "name": "stdout",
     "output_type": "stream",
     "text": [
      "0.8377370857491474\n",
      "0.07288503253796096\n"
     ]
    }
   ],
   "source": [
    "print(cross_val_score(gbtree, datax, labels,scoring='accuracy', cv=5).mean())\n",
    "print(cross_val_score(gbtree, datax, labels,scoring='f1', cv=5).mean())"
   ]
  },
  {
   "cell_type": "code",
   "execution_count": 99,
   "metadata": {},
   "outputs": [],
   "source": [
    "data2 = df.loc[:,['ISCEDL','AGE','HOMEPOS','COBN_F','ENTUSE','PROGN',\n",
    "                'COBN_M','IC001Q09TA']]\n",
    "xgbclassfier = XGBClassifier(learning_rate = 0.1,\n",
    "                            booster = 'gbtree',\n",
    "                            max_depth = 3,\n",
    "                            gamma = 2,\n",
    "                            subsample = 1,\n",
    "                            objective = 'binary:logistic',\n",
    "                            eval_metric = 'logloss',)\n"
   ]
  },
  {
   "cell_type": "code",
   "execution_count": 100,
   "metadata": {},
   "outputs": [
    {
     "name": "stdout",
     "output_type": "stream",
     "text": [
      "0.8402643151391631\n",
      "0.2289043161761059\n"
     ]
    }
   ],
   "source": [
    "print(cross_val_score(xgbclassfier, datax, labels,scoring='accuracy', cv=5).mean())\n",
    "print(cross_val_score(xgbclassfier, datax, labels,scoring='f1', cv=5).mean())"
   ]
  },
  {
   "cell_type": "code",
   "execution_count": 101,
   "metadata": {},
   "outputs": [],
   "source": [
    "data3 = df.loc[:,['COBN_F','ST011D17TA','ENTUSE','HOMEPOS',\n",
    "                'IC008Q02TA','IC001Q11TA','MISCED_D','SCREADDIFF']]\n",
    "mlp = MLPClassifier(hidden_layer_sizes=(10,),\n",
    "                                max_iter = 1000,\n",
    "                                activation='tanh',\n",
    "                                solver = 'adam',\n",
    "                                alpha = 0.0001,\n",
    "                                )\n"
   ]
  },
  {
   "cell_type": "code",
   "execution_count": 102,
   "metadata": {},
   "outputs": [
    {
     "name": "stdout",
     "output_type": "stream",
     "text": [
      "0.8315879228876557\n",
      "0.0\n"
     ]
    }
   ],
   "source": [
    "print(cross_val_score(mlp, datax, labels.ravel(),scoring='accuracy', cv=5).mean())\n",
    "print(cross_val_score(mlp, datax, labels.ravel(),scoring='f1', cv=5).mean())"
   ]
  },
  {
   "cell_type": "code",
   "execution_count": 103,
   "metadata": {},
   "outputs": [],
   "source": [
    "data4 = df.loc[:,['COBN_F','ST011D17TA','ENTUSE','HOMEPOS',\n",
    "                'IC008Q02TA','IC001Q11TA','MISCED_D','SCREADDIFF']]\n",
    "KNN = KNeighborsClassifier(n_neighbors=3,\n",
    "                            weights='uniform',\n",
    "                            algorithm='auto')"
   ]
  },
  {
   "cell_type": "code",
   "execution_count": 104,
   "metadata": {},
   "outputs": [
    {
     "name": "stdout",
     "output_type": "stream",
     "text": [
      "0.801752361595085\n",
      "0.18373393873353744\n"
     ]
    }
   ],
   "source": [
    "print(cross_val_score(KNN, datax, labels.ravel(),scoring='accuracy', cv=5).mean())\n",
    "print(cross_val_score(KNN, datax, labels.ravel(),scoring='f1', cv=5).mean())"
   ]
  },
  {
   "cell_type": "code",
   "execution_count": 114,
   "metadata": {},
   "outputs": [],
   "source": [
    "kf = KFold(n_splits=5, shuffle=True)"
   ]
  },
  {
   "cell_type": "code",
   "execution_count": 115,
   "metadata": {},
   "outputs": [],
   "source": [
    "index1 = []\n",
    "index2 = []\n",
    "for train_index,test_index in kf.split(datax,labels):\n",
    "    index1.append(list(train_index))\n",
    "    index2.append(list(test_index))"
   ]
  },
  {
   "cell_type": "code",
   "execution_count": 116,
   "metadata": {},
   "outputs": [],
   "source": [
    "train_data = datax.iloc[index1[0],:]\n",
    "test_data = datax.iloc[index2[0],:]\n",
    "train_labels = labels[index1[0]]\n",
    "test_labels = labels[index2[0]]"
   ]
  },
  {
   "cell_type": "code",
   "execution_count": 117,
   "metadata": {},
   "outputs": [
    {
     "data": {
      "text/html": [
       "<style>#sk-container-id-4 {color: black;background-color: white;}#sk-container-id-4 pre{padding: 0;}#sk-container-id-4 div.sk-toggleable {background-color: white;}#sk-container-id-4 label.sk-toggleable__label {cursor: pointer;display: block;width: 100%;margin-bottom: 0;padding: 0.3em;box-sizing: border-box;text-align: center;}#sk-container-id-4 label.sk-toggleable__label-arrow:before {content: \"▸\";float: left;margin-right: 0.25em;color: #696969;}#sk-container-id-4 label.sk-toggleable__label-arrow:hover:before {color: black;}#sk-container-id-4 div.sk-estimator:hover label.sk-toggleable__label-arrow:before {color: black;}#sk-container-id-4 div.sk-toggleable__content {max-height: 0;max-width: 0;overflow: hidden;text-align: left;background-color: #f0f8ff;}#sk-container-id-4 div.sk-toggleable__content pre {margin: 0.2em;color: black;border-radius: 0.25em;background-color: #f0f8ff;}#sk-container-id-4 input.sk-toggleable__control:checked~div.sk-toggleable__content {max-height: 200px;max-width: 100%;overflow: auto;}#sk-container-id-4 input.sk-toggleable__control:checked~label.sk-toggleable__label-arrow:before {content: \"▾\";}#sk-container-id-4 div.sk-estimator input.sk-toggleable__control:checked~label.sk-toggleable__label {background-color: #d4ebff;}#sk-container-id-4 div.sk-label input.sk-toggleable__control:checked~label.sk-toggleable__label {background-color: #d4ebff;}#sk-container-id-4 input.sk-hidden--visually {border: 0;clip: rect(1px 1px 1px 1px);clip: rect(1px, 1px, 1px, 1px);height: 1px;margin: -1px;overflow: hidden;padding: 0;position: absolute;width: 1px;}#sk-container-id-4 div.sk-estimator {font-family: monospace;background-color: #f0f8ff;border: 1px dotted black;border-radius: 0.25em;box-sizing: border-box;margin-bottom: 0.5em;}#sk-container-id-4 div.sk-estimator:hover {background-color: #d4ebff;}#sk-container-id-4 div.sk-parallel-item::after {content: \"\";width: 100%;border-bottom: 1px solid gray;flex-grow: 1;}#sk-container-id-4 div.sk-label:hover label.sk-toggleable__label {background-color: #d4ebff;}#sk-container-id-4 div.sk-serial::before {content: \"\";position: absolute;border-left: 1px solid gray;box-sizing: border-box;top: 0;bottom: 0;left: 50%;z-index: 0;}#sk-container-id-4 div.sk-serial {display: flex;flex-direction: column;align-items: center;background-color: white;padding-right: 0.2em;padding-left: 0.2em;position: relative;}#sk-container-id-4 div.sk-item {position: relative;z-index: 1;}#sk-container-id-4 div.sk-parallel {display: flex;align-items: stretch;justify-content: center;background-color: white;position: relative;}#sk-container-id-4 div.sk-item::before, #sk-container-id-4 div.sk-parallel-item::before {content: \"\";position: absolute;border-left: 1px solid gray;box-sizing: border-box;top: 0;bottom: 0;left: 50%;z-index: -1;}#sk-container-id-4 div.sk-parallel-item {display: flex;flex-direction: column;z-index: 1;position: relative;background-color: white;}#sk-container-id-4 div.sk-parallel-item:first-child::after {align-self: flex-end;width: 50%;}#sk-container-id-4 div.sk-parallel-item:last-child::after {align-self: flex-start;width: 50%;}#sk-container-id-4 div.sk-parallel-item:only-child::after {width: 0;}#sk-container-id-4 div.sk-dashed-wrapped {border: 1px dashed gray;margin: 0 0.4em 0.5em 0.4em;box-sizing: border-box;padding-bottom: 0.4em;background-color: white;}#sk-container-id-4 div.sk-label label {font-family: monospace;font-weight: bold;display: inline-block;line-height: 1.2em;}#sk-container-id-4 div.sk-label-container {text-align: center;}#sk-container-id-4 div.sk-container {/* jupyter's `normalize.less` sets `[hidden] { display: none; }` but bootstrap.min.css set `[hidden] { display: none !important; }` so we also need the `!important` here to be able to override the default hidden behavior on the sphinx rendered scikit-learn.org. See: https://github.com/scikit-learn/scikit-learn/issues/21755 */display: inline-block !important;position: relative;}#sk-container-id-4 div.sk-text-repr-fallback {display: none;}</style><div id=\"sk-container-id-4\" class=\"sk-top-container\"><div class=\"sk-text-repr-fallback\"><pre>XGBClassifier(base_score=None, booster=&#x27;gbtree&#x27;, callbacks=None,\n",
       "              colsample_bylevel=None, colsample_bynode=None,\n",
       "              colsample_bytree=None, early_stopping_rounds=None,\n",
       "              enable_categorical=False, eval_metric=&#x27;logloss&#x27;,\n",
       "              feature_types=None, gamma=2, gpu_id=None, grow_policy=None,\n",
       "              importance_type=None, interaction_constraints=None,\n",
       "              learning_rate=0.1, max_bin=None, max_cat_threshold=None,\n",
       "              max_cat_to_onehot=None, max_delta_step=None, max_depth=3,\n",
       "              max_leaves=None, min_child_weight=None, missing=nan,\n",
       "              monotone_constraints=None, n_estimators=100, n_jobs=None,\n",
       "              num_parallel_tree=None, predictor=None, random_state=None, ...)</pre><b>In a Jupyter environment, please rerun this cell to show the HTML representation or trust the notebook. <br />On GitHub, the HTML representation is unable to render, please try loading this page with nbviewer.org.</b></div><div class=\"sk-container\" hidden><div class=\"sk-item\"><div class=\"sk-estimator sk-toggleable\"><input class=\"sk-toggleable__control sk-hidden--visually\" id=\"sk-estimator-id-4\" type=\"checkbox\" checked><label for=\"sk-estimator-id-4\" class=\"sk-toggleable__label sk-toggleable__label-arrow\">XGBClassifier</label><div class=\"sk-toggleable__content\"><pre>XGBClassifier(base_score=None, booster=&#x27;gbtree&#x27;, callbacks=None,\n",
       "              colsample_bylevel=None, colsample_bynode=None,\n",
       "              colsample_bytree=None, early_stopping_rounds=None,\n",
       "              enable_categorical=False, eval_metric=&#x27;logloss&#x27;,\n",
       "              feature_types=None, gamma=2, gpu_id=None, grow_policy=None,\n",
       "              importance_type=None, interaction_constraints=None,\n",
       "              learning_rate=0.1, max_bin=None, max_cat_threshold=None,\n",
       "              max_cat_to_onehot=None, max_delta_step=None, max_depth=3,\n",
       "              max_leaves=None, min_child_weight=None, missing=nan,\n",
       "              monotone_constraints=None, n_estimators=100, n_jobs=None,\n",
       "              num_parallel_tree=None, predictor=None, random_state=None, ...)</pre></div></div></div></div></div>"
      ],
      "text/plain": [
       "XGBClassifier(base_score=None, booster='gbtree', callbacks=None,\n",
       "              colsample_bylevel=None, colsample_bynode=None,\n",
       "              colsample_bytree=None, early_stopping_rounds=None,\n",
       "              enable_categorical=False, eval_metric='logloss',\n",
       "              feature_types=None, gamma=2, gpu_id=None, grow_policy=None,\n",
       "              importance_type=None, interaction_constraints=None,\n",
       "              learning_rate=0.1, max_bin=None, max_cat_threshold=None,\n",
       "              max_cat_to_onehot=None, max_delta_step=None, max_depth=3,\n",
       "              max_leaves=None, min_child_weight=None, missing=nan,\n",
       "              monotone_constraints=None, n_estimators=100, n_jobs=None,\n",
       "              num_parallel_tree=None, predictor=None, random_state=None, ...)"
      ]
     },
     "execution_count": 117,
     "metadata": {},
     "output_type": "execute_result"
    }
   ],
   "source": [
    "xgbclassfier.fit(train_data, train_labels)"
   ]
  },
  {
   "cell_type": "code",
   "execution_count": 118,
   "metadata": {},
   "outputs": [],
   "source": [
    "pre = xgbclassfier.predict(test_data)"
   ]
  },
  {
   "cell_type": "code",
   "execution_count": 119,
   "metadata": {},
   "outputs": [],
   "source": [
    "result = pd.DataFrame(index=index2[0])\n",
    "\n",
    "result['true_label'] = test_labels\n",
    "result['pre_label'] = pre"
   ]
  },
  {
   "cell_type": "code",
   "execution_count": 120,
   "metadata": {},
   "outputs": [
    {
     "name": "stdout",
     "output_type": "stream",
     "text": [
      "[0.16605784]\n"
     ]
    }
   ],
   "source": [
    "print(np.sum(test_labels[i] == 1 for i in range(len(test_labels))) / len(test_labels))"
   ]
  },
  {
   "cell_type": "code",
   "execution_count": 121,
   "metadata": {},
   "outputs": [
    {
     "name": "stdout",
     "output_type": "stream",
     "text": [
      "0.7947026866736631\n",
      "0.3764387271496276\n"
     ]
    }
   ],
   "source": [
    "print(np.mean(pre == test_labels))\n",
    "\n",
    "print(f1_score(test_labels, pre))"
   ]
  },
  {
   "cell_type": "code",
   "execution_count": 113,
   "metadata": {},
   "outputs": [],
   "source": [
    "result.to_csv(\"exp5.csv\")"
   ]
  },
  {
   "cell_type": "code",
   "execution_count": null,
   "metadata": {},
   "outputs": [],
   "source": []
  },
  {
   "cell_type": "code",
   "execution_count": null,
   "metadata": {},
   "outputs": [],
   "source": []
  }
 ],
 "metadata": {
  "kernelspec": {
   "display_name": "base",
   "language": "python",
   "name": "python3"
  },
  "language_info": {
   "codemirror_mode": {
    "name": "ipython",
    "version": 3
   },
   "file_extension": ".py",
   "mimetype": "text/x-python",
   "name": "python",
   "nbconvert_exporter": "python",
   "pygments_lexer": "ipython3",
   "version": "3.9.13"
  },
  "orig_nbformat": 4
 },
 "nbformat": 4,
 "nbformat_minor": 2
}
